{
 "cells": [
  {
   "cell_type": "markdown",
   "id": "020380dc",
   "metadata": {},
   "source": [
    "# Hyperthyroidism Detection: A Comparative Analysis of Classifiers\n",
    "This project aims to develop a predictive model for diagnosing hyperthyroidism in patients using machine learning techniques. We will utilize a dataset containing various features related to thyroid function tests, symptoms, and medical history to train and evaluate several classifiers. The study will focus on comparing the performance of classifiers such as Multinomial Naive Bayes, Support Vector Machine (SVM), Random Forest, and Multilayer Perceptron (MLP) to determine the most effective model for accurate hyperthyroidism prediction. The project's ultimate goal is to contribute to improved medical diagnostics and decision-making in the field of thyroid disorders."
   ]
  },
  {
   "cell_type": "markdown",
   "id": "21c6bf6b",
   "metadata": {},
   "source": [
    "## Import Libraries"
   ]
  },
  {
   "cell_type": "code",
   "execution_count": 1,
   "id": "74b1dbb9",
   "metadata": {},
   "outputs": [],
   "source": [
    "import pandas as pd\n",
    "import numpy as np\n",
    "import matplotlib.pyplot as plt\n",
    "import seaborn as sns\n",
    "from sklearn.model_selection import train_test_split\n",
    "from sklearn.naive_bayes import MultinomialNB\n",
    "from sklearn.svm import SVC\n",
    "from sklearn.ensemble import RandomForestClassifier\n",
    "from sklearn.neural_network import MLPClassifier\n",
    "from sklearn.metrics import accuracy_score,confusion_matrix,classification_report\n",
    "from sklearn.preprocessing import LabelEncoder\n",
    "from sklearn.preprocessing import MultiLabelBinarizer\n",
    "from sklearn.multiclass import OneVsRestClassifier\n",
    "import warnings\n",
    "warnings.filterwarnings('ignore')"
   ]
  },
  {
   "cell_type": "markdown",
   "id": "7e5cc142",
   "metadata": {},
   "source": [
    "## Uploading CSV\n",
    "uploading csv, storing in dataframe and displaying first 5 entries of dataframe"
   ]
  },
  {
   "cell_type": "code",
   "execution_count": 2,
   "id": "1c790c1d",
   "metadata": {
    "scrolled": true
   },
   "outputs": [
    {
     "data": {
      "text/html": [
       "<div>\n",
       "<style scoped>\n",
       "    .dataframe tbody tr th:only-of-type {\n",
       "        vertical-align: middle;\n",
       "    }\n",
       "\n",
       "    .dataframe tbody tr th {\n",
       "        vertical-align: top;\n",
       "    }\n",
       "\n",
       "    .dataframe thead th {\n",
       "        text-align: right;\n",
       "    }\n",
       "</style>\n",
       "<table border=\"1\" class=\"dataframe\">\n",
       "  <thead>\n",
       "    <tr style=\"text-align: right;\">\n",
       "      <th></th>\n",
       "      <th>age</th>\n",
       "      <th>sex</th>\n",
       "      <th>on_thyroxine</th>\n",
       "      <th>query_on_thyroxine</th>\n",
       "      <th>on_antithyroid_meds</th>\n",
       "      <th>sick</th>\n",
       "      <th>pregnant</th>\n",
       "      <th>thyroid_surgery</th>\n",
       "      <th>I131_treatment</th>\n",
       "      <th>query_hypothyroid</th>\n",
       "      <th>...</th>\n",
       "      <th>TT4</th>\n",
       "      <th>T4U_measured</th>\n",
       "      <th>T4U</th>\n",
       "      <th>FTI_measured</th>\n",
       "      <th>FTI</th>\n",
       "      <th>TBG_measured</th>\n",
       "      <th>TBG</th>\n",
       "      <th>referral_source</th>\n",
       "      <th>target</th>\n",
       "      <th>patient_id</th>\n",
       "    </tr>\n",
       "  </thead>\n",
       "  <tbody>\n",
       "    <tr>\n",
       "      <th>0</th>\n",
       "      <td>29</td>\n",
       "      <td>F</td>\n",
       "      <td>f</td>\n",
       "      <td>f</td>\n",
       "      <td>f</td>\n",
       "      <td>f</td>\n",
       "      <td>f</td>\n",
       "      <td>f</td>\n",
       "      <td>f</td>\n",
       "      <td>t</td>\n",
       "      <td>...</td>\n",
       "      <td>NaN</td>\n",
       "      <td>f</td>\n",
       "      <td>NaN</td>\n",
       "      <td>f</td>\n",
       "      <td>NaN</td>\n",
       "      <td>f</td>\n",
       "      <td>NaN</td>\n",
       "      <td>other</td>\n",
       "      <td>-</td>\n",
       "      <td>840801013</td>\n",
       "    </tr>\n",
       "    <tr>\n",
       "      <th>1</th>\n",
       "      <td>29</td>\n",
       "      <td>F</td>\n",
       "      <td>f</td>\n",
       "      <td>f</td>\n",
       "      <td>f</td>\n",
       "      <td>f</td>\n",
       "      <td>f</td>\n",
       "      <td>f</td>\n",
       "      <td>f</td>\n",
       "      <td>f</td>\n",
       "      <td>...</td>\n",
       "      <td>128.0</td>\n",
       "      <td>f</td>\n",
       "      <td>NaN</td>\n",
       "      <td>f</td>\n",
       "      <td>NaN</td>\n",
       "      <td>f</td>\n",
       "      <td>NaN</td>\n",
       "      <td>other</td>\n",
       "      <td>-</td>\n",
       "      <td>840801014</td>\n",
       "    </tr>\n",
       "    <tr>\n",
       "      <th>2</th>\n",
       "      <td>41</td>\n",
       "      <td>F</td>\n",
       "      <td>f</td>\n",
       "      <td>f</td>\n",
       "      <td>f</td>\n",
       "      <td>f</td>\n",
       "      <td>f</td>\n",
       "      <td>f</td>\n",
       "      <td>f</td>\n",
       "      <td>f</td>\n",
       "      <td>...</td>\n",
       "      <td>NaN</td>\n",
       "      <td>f</td>\n",
       "      <td>NaN</td>\n",
       "      <td>f</td>\n",
       "      <td>NaN</td>\n",
       "      <td>t</td>\n",
       "      <td>11.0</td>\n",
       "      <td>other</td>\n",
       "      <td>-</td>\n",
       "      <td>840801042</td>\n",
       "    </tr>\n",
       "    <tr>\n",
       "      <th>3</th>\n",
       "      <td>36</td>\n",
       "      <td>F</td>\n",
       "      <td>f</td>\n",
       "      <td>f</td>\n",
       "      <td>f</td>\n",
       "      <td>f</td>\n",
       "      <td>f</td>\n",
       "      <td>f</td>\n",
       "      <td>f</td>\n",
       "      <td>f</td>\n",
       "      <td>...</td>\n",
       "      <td>NaN</td>\n",
       "      <td>f</td>\n",
       "      <td>NaN</td>\n",
       "      <td>f</td>\n",
       "      <td>NaN</td>\n",
       "      <td>t</td>\n",
       "      <td>26.0</td>\n",
       "      <td>other</td>\n",
       "      <td>-</td>\n",
       "      <td>840803046</td>\n",
       "    </tr>\n",
       "    <tr>\n",
       "      <th>4</th>\n",
       "      <td>32</td>\n",
       "      <td>F</td>\n",
       "      <td>f</td>\n",
       "      <td>f</td>\n",
       "      <td>f</td>\n",
       "      <td>f</td>\n",
       "      <td>f</td>\n",
       "      <td>f</td>\n",
       "      <td>f</td>\n",
       "      <td>f</td>\n",
       "      <td>...</td>\n",
       "      <td>NaN</td>\n",
       "      <td>f</td>\n",
       "      <td>NaN</td>\n",
       "      <td>f</td>\n",
       "      <td>NaN</td>\n",
       "      <td>t</td>\n",
       "      <td>36.0</td>\n",
       "      <td>other</td>\n",
       "      <td>S</td>\n",
       "      <td>840803047</td>\n",
       "    </tr>\n",
       "  </tbody>\n",
       "</table>\n",
       "<p>5 rows × 31 columns</p>\n",
       "</div>"
      ],
      "text/plain": [
       "   age sex on_thyroxine query_on_thyroxine on_antithyroid_meds sick pregnant  \\\n",
       "0   29   F            f                  f                   f    f        f   \n",
       "1   29   F            f                  f                   f    f        f   \n",
       "2   41   F            f                  f                   f    f        f   \n",
       "3   36   F            f                  f                   f    f        f   \n",
       "4   32   F            f                  f                   f    f        f   \n",
       "\n",
       "  thyroid_surgery I131_treatment query_hypothyroid  ...    TT4 T4U_measured  \\\n",
       "0               f              f                 t  ...    NaN            f   \n",
       "1               f              f                 f  ...  128.0            f   \n",
       "2               f              f                 f  ...    NaN            f   \n",
       "3               f              f                 f  ...    NaN            f   \n",
       "4               f              f                 f  ...    NaN            f   \n",
       "\n",
       "  T4U FTI_measured FTI TBG_measured   TBG  referral_source target  patient_id  \n",
       "0 NaN            f NaN            f   NaN            other      -   840801013  \n",
       "1 NaN            f NaN            f   NaN            other      -   840801014  \n",
       "2 NaN            f NaN            t  11.0            other      -   840801042  \n",
       "3 NaN            f NaN            t  26.0            other      -   840803046  \n",
       "4 NaN            f NaN            t  36.0            other      S   840803047  \n",
       "\n",
       "[5 rows x 31 columns]"
      ]
     },
     "execution_count": 2,
     "metadata": {},
     "output_type": "execute_result"
    }
   ],
   "source": [
    "df = pd.read_csv('thyroidDF.csv')\n",
    "df.head()"
   ]
  },
  {
   "cell_type": "markdown",
   "id": "e2c5c345",
   "metadata": {},
   "source": [
    "## .shape\n",
    "returns a tuple representing the dimensions (number of rows and columns) of a pandas DataFrame."
   ]
  },
  {
   "cell_type": "code",
   "execution_count": 3,
   "id": "49315b6f",
   "metadata": {},
   "outputs": [
    {
     "data": {
      "text/plain": [
       "(9172, 31)"
      ]
     },
     "execution_count": 3,
     "metadata": {},
     "output_type": "execute_result"
    }
   ],
   "source": [
    "df.shape"
   ]
  },
  {
   "cell_type": "markdown",
   "id": "1bc727d5",
   "metadata": {},
   "source": [
    "## features types\n",
    "assinging and displaying features types."
   ]
  },
  {
   "cell_type": "code",
   "execution_count": 4,
   "id": "a5a3b694",
   "metadata": {
    "scrolled": false
   },
   "outputs": [
    {
     "name": "stdout",
     "output_type": "stream",
     "text": [
      "age: Numerical\n",
      "sex: Nominal Categorical\n",
      "on_thyroxine: Boolean\n",
      "query_on_thyroxine: Not specified\n",
      "on_antithyroid_meds: Not specified\n",
      "sick: Boolean\n",
      "pregnant: Boolean\n",
      "thyroid_surgery: Boolean\n",
      "I131_treatment: Boolean\n",
      "query_hypothyroid: Boolean\n",
      "query_hyperthyroid: Boolean\n",
      "lithium: Boolean\n",
      "goitre: Boolean\n",
      "tumor: Boolean\n",
      "hypopituitary: Numerical\n",
      "psych: Boolean\n",
      "TSH_measured: Boolean\n",
      "TSH: Numerical\n",
      "T3_measured: Boolean\n",
      "T3: Numerical\n",
      "TT4_measured: Boolean\n",
      "TT4: Numerical\n",
      "T4U_measured: Boolean\n",
      "T4U: Numerical\n",
      "FTI_measured: Boolean\n",
      "FTI: Numerical\n",
      "TBG_measured: Boolean\n",
      "TBG: Numerical\n",
      "referral_source: Nominal Categorical\n",
      "target: Nominal Categorical\n",
      "patient_id: Nominal Categorical\n"
     ]
    }
   ],
   "source": [
    "feature_types = {\n",
    "    'age': 'Numerical',\n",
    "    'sex': 'Nominal Categorical',\n",
    "    'on_thyroxine': 'Boolean',\n",
    "    'query on thyroxine': 'Boolean',\n",
    "    'on antithyroid meds': 'Boolean',\n",
    "    'sick': 'Boolean',\n",
    "    'pregnant': 'Boolean',\n",
    "    'thyroid_surgery': 'Boolean',\n",
    "    'I131_treatment': 'Boolean',\n",
    "    'query_hypothyroid': 'Boolean',\n",
    "    'query_hyperthyroid': 'Boolean',\n",
    "    'lithium': 'Boolean',\n",
    "    'goitre': 'Boolean',\n",
    "    'tumor': 'Boolean',\n",
    "    'hypopituitary': 'Numerical',\n",
    "    'psych': 'Boolean',\n",
    "    'TSH_measured': 'Boolean',\n",
    "    'TSH': 'Numerical',\n",
    "    'T3_measured': 'Boolean',\n",
    "    'T3': 'Numerical',\n",
    "    'TT4_measured': 'Boolean',\n",
    "    'TT4': 'Numerical',\n",
    "    'T4U_measured': 'Boolean',\n",
    "    'T4U': 'Numerical',\n",
    "    'FTI_measured': 'Boolean',\n",
    "    'FTI': 'Numerical',\n",
    "    'TBG_measured': 'Boolean',\n",
    "    'TBG': 'Numerical',\n",
    "    'referral_source': 'Nominal Categorical',\n",
    "    'target': 'Nominal Categorical',\n",
    "    'patient_id': 'Nominal Categorical'\n",
    "}\n",
    "\n",
    "# Display feature types\n",
    "for column in df.columns:\n",
    "    if column in feature_types:\n",
    "        print(f\"{column}: {feature_types[column]}\")\n",
    "    else:\n",
    "        print(f\"{column}: Not specified\")"
   ]
  },
  {
   "cell_type": "markdown",
   "id": "86a5fdae",
   "metadata": {},
   "source": [
    "## dropping\n",
    "dropping column patient_id."
   ]
  },
  {
   "cell_type": "code",
   "execution_count": 5,
   "id": "daf2a292",
   "metadata": {},
   "outputs": [
    {
     "data": {
      "text/html": [
       "<div>\n",
       "<style scoped>\n",
       "    .dataframe tbody tr th:only-of-type {\n",
       "        vertical-align: middle;\n",
       "    }\n",
       "\n",
       "    .dataframe tbody tr th {\n",
       "        vertical-align: top;\n",
       "    }\n",
       "\n",
       "    .dataframe thead th {\n",
       "        text-align: right;\n",
       "    }\n",
       "</style>\n",
       "<table border=\"1\" class=\"dataframe\">\n",
       "  <thead>\n",
       "    <tr style=\"text-align: right;\">\n",
       "      <th></th>\n",
       "      <th>age</th>\n",
       "      <th>sex</th>\n",
       "      <th>on_thyroxine</th>\n",
       "      <th>query_on_thyroxine</th>\n",
       "      <th>on_antithyroid_meds</th>\n",
       "      <th>sick</th>\n",
       "      <th>pregnant</th>\n",
       "      <th>thyroid_surgery</th>\n",
       "      <th>I131_treatment</th>\n",
       "      <th>query_hypothyroid</th>\n",
       "      <th>...</th>\n",
       "      <th>TT4_measured</th>\n",
       "      <th>TT4</th>\n",
       "      <th>T4U_measured</th>\n",
       "      <th>T4U</th>\n",
       "      <th>FTI_measured</th>\n",
       "      <th>FTI</th>\n",
       "      <th>TBG_measured</th>\n",
       "      <th>TBG</th>\n",
       "      <th>referral_source</th>\n",
       "      <th>target</th>\n",
       "    </tr>\n",
       "  </thead>\n",
       "  <tbody>\n",
       "    <tr>\n",
       "      <th>0</th>\n",
       "      <td>29</td>\n",
       "      <td>F</td>\n",
       "      <td>f</td>\n",
       "      <td>f</td>\n",
       "      <td>f</td>\n",
       "      <td>f</td>\n",
       "      <td>f</td>\n",
       "      <td>f</td>\n",
       "      <td>f</td>\n",
       "      <td>t</td>\n",
       "      <td>...</td>\n",
       "      <td>f</td>\n",
       "      <td>NaN</td>\n",
       "      <td>f</td>\n",
       "      <td>NaN</td>\n",
       "      <td>f</td>\n",
       "      <td>NaN</td>\n",
       "      <td>f</td>\n",
       "      <td>NaN</td>\n",
       "      <td>other</td>\n",
       "      <td>-</td>\n",
       "    </tr>\n",
       "    <tr>\n",
       "      <th>1</th>\n",
       "      <td>29</td>\n",
       "      <td>F</td>\n",
       "      <td>f</td>\n",
       "      <td>f</td>\n",
       "      <td>f</td>\n",
       "      <td>f</td>\n",
       "      <td>f</td>\n",
       "      <td>f</td>\n",
       "      <td>f</td>\n",
       "      <td>f</td>\n",
       "      <td>...</td>\n",
       "      <td>t</td>\n",
       "      <td>128.0</td>\n",
       "      <td>f</td>\n",
       "      <td>NaN</td>\n",
       "      <td>f</td>\n",
       "      <td>NaN</td>\n",
       "      <td>f</td>\n",
       "      <td>NaN</td>\n",
       "      <td>other</td>\n",
       "      <td>-</td>\n",
       "    </tr>\n",
       "    <tr>\n",
       "      <th>2</th>\n",
       "      <td>41</td>\n",
       "      <td>F</td>\n",
       "      <td>f</td>\n",
       "      <td>f</td>\n",
       "      <td>f</td>\n",
       "      <td>f</td>\n",
       "      <td>f</td>\n",
       "      <td>f</td>\n",
       "      <td>f</td>\n",
       "      <td>f</td>\n",
       "      <td>...</td>\n",
       "      <td>f</td>\n",
       "      <td>NaN</td>\n",
       "      <td>f</td>\n",
       "      <td>NaN</td>\n",
       "      <td>f</td>\n",
       "      <td>NaN</td>\n",
       "      <td>t</td>\n",
       "      <td>11.0</td>\n",
       "      <td>other</td>\n",
       "      <td>-</td>\n",
       "    </tr>\n",
       "    <tr>\n",
       "      <th>3</th>\n",
       "      <td>36</td>\n",
       "      <td>F</td>\n",
       "      <td>f</td>\n",
       "      <td>f</td>\n",
       "      <td>f</td>\n",
       "      <td>f</td>\n",
       "      <td>f</td>\n",
       "      <td>f</td>\n",
       "      <td>f</td>\n",
       "      <td>f</td>\n",
       "      <td>...</td>\n",
       "      <td>f</td>\n",
       "      <td>NaN</td>\n",
       "      <td>f</td>\n",
       "      <td>NaN</td>\n",
       "      <td>f</td>\n",
       "      <td>NaN</td>\n",
       "      <td>t</td>\n",
       "      <td>26.0</td>\n",
       "      <td>other</td>\n",
       "      <td>-</td>\n",
       "    </tr>\n",
       "    <tr>\n",
       "      <th>4</th>\n",
       "      <td>32</td>\n",
       "      <td>F</td>\n",
       "      <td>f</td>\n",
       "      <td>f</td>\n",
       "      <td>f</td>\n",
       "      <td>f</td>\n",
       "      <td>f</td>\n",
       "      <td>f</td>\n",
       "      <td>f</td>\n",
       "      <td>f</td>\n",
       "      <td>...</td>\n",
       "      <td>f</td>\n",
       "      <td>NaN</td>\n",
       "      <td>f</td>\n",
       "      <td>NaN</td>\n",
       "      <td>f</td>\n",
       "      <td>NaN</td>\n",
       "      <td>t</td>\n",
       "      <td>36.0</td>\n",
       "      <td>other</td>\n",
       "      <td>S</td>\n",
       "    </tr>\n",
       "  </tbody>\n",
       "</table>\n",
       "<p>5 rows × 30 columns</p>\n",
       "</div>"
      ],
      "text/plain": [
       "   age sex on_thyroxine query_on_thyroxine on_antithyroid_meds sick pregnant  \\\n",
       "0   29   F            f                  f                   f    f        f   \n",
       "1   29   F            f                  f                   f    f        f   \n",
       "2   41   F            f                  f                   f    f        f   \n",
       "3   36   F            f                  f                   f    f        f   \n",
       "4   32   F            f                  f                   f    f        f   \n",
       "\n",
       "  thyroid_surgery I131_treatment query_hypothyroid  ... TT4_measured    TT4  \\\n",
       "0               f              f                 t  ...            f    NaN   \n",
       "1               f              f                 f  ...            t  128.0   \n",
       "2               f              f                 f  ...            f    NaN   \n",
       "3               f              f                 f  ...            f    NaN   \n",
       "4               f              f                 f  ...            f    NaN   \n",
       "\n",
       "  T4U_measured T4U FTI_measured FTI TBG_measured   TBG referral_source  target  \n",
       "0            f NaN            f NaN            f   NaN           other       -  \n",
       "1            f NaN            f NaN            f   NaN           other       -  \n",
       "2            f NaN            f NaN            t  11.0           other       -  \n",
       "3            f NaN            f NaN            t  26.0           other       -  \n",
       "4            f NaN            f NaN            t  36.0           other       S  \n",
       "\n",
       "[5 rows x 30 columns]"
      ]
     },
     "execution_count": 5,
     "metadata": {},
     "output_type": "execute_result"
    }
   ],
   "source": [
    "df.drop(['patient_id'], axis = 1, inplace = True)\n",
    "df.head()"
   ]
  },
  {
   "cell_type": "markdown",
   "id": "3057b77a",
   "metadata": {},
   "source": [
    "## .info\n",
    "provides a concise summary of information about a pandas DataFrame, including data types, non-null counts, and memory usage."
   ]
  },
  {
   "cell_type": "code",
   "execution_count": 6,
   "id": "ba97e8cf",
   "metadata": {},
   "outputs": [
    {
     "name": "stdout",
     "output_type": "stream",
     "text": [
      "<class 'pandas.core.frame.DataFrame'>\n",
      "RangeIndex: 9172 entries, 0 to 9171\n",
      "Data columns (total 30 columns):\n",
      " #   Column               Non-Null Count  Dtype  \n",
      "---  ------               --------------  -----  \n",
      " 0   age                  9172 non-null   int64  \n",
      " 1   sex                  8865 non-null   object \n",
      " 2   on_thyroxine         9172 non-null   object \n",
      " 3   query_on_thyroxine   9172 non-null   object \n",
      " 4   on_antithyroid_meds  9172 non-null   object \n",
      " 5   sick                 9172 non-null   object \n",
      " 6   pregnant             9172 non-null   object \n",
      " 7   thyroid_surgery      9172 non-null   object \n",
      " 8   I131_treatment       9172 non-null   object \n",
      " 9   query_hypothyroid    9172 non-null   object \n",
      " 10  query_hyperthyroid   9172 non-null   object \n",
      " 11  lithium              9172 non-null   object \n",
      " 12  goitre               9172 non-null   object \n",
      " 13  tumor                9172 non-null   object \n",
      " 14  hypopituitary        9172 non-null   object \n",
      " 15  psych                9172 non-null   object \n",
      " 16  TSH_measured         9172 non-null   object \n",
      " 17  TSH                  8330 non-null   float64\n",
      " 18  T3_measured          9172 non-null   object \n",
      " 19  T3                   6568 non-null   float64\n",
      " 20  TT4_measured         9172 non-null   object \n",
      " 21  TT4                  8730 non-null   float64\n",
      " 22  T4U_measured         9172 non-null   object \n",
      " 23  T4U                  8363 non-null   float64\n",
      " 24  FTI_measured         9172 non-null   object \n",
      " 25  FTI                  8370 non-null   float64\n",
      " 26  TBG_measured         9172 non-null   object \n",
      " 27  TBG                  349 non-null    float64\n",
      " 28  referral_source      9172 non-null   object \n",
      " 29  target               9172 non-null   object \n",
      "dtypes: float64(6), int64(1), object(23)\n",
      "memory usage: 2.1+ MB\n"
     ]
    }
   ],
   "source": [
    "df.info()"
   ]
  },
  {
   "cell_type": "markdown",
   "id": "e60ce251",
   "metadata": {},
   "source": [
    "## missing data analysis and handling\n",
    "calculates and returns the count of missing (null) values for each column in a DataFrame, allowing for easy identification of data gaps."
   ]
  },
  {
   "cell_type": "code",
   "execution_count": 7,
   "id": "6a79d8a1",
   "metadata": {},
   "outputs": [
    {
     "data": {
      "text/plain": [
       "age                       0\n",
       "sex                     307\n",
       "on_thyroxine              0\n",
       "query_on_thyroxine        0\n",
       "on_antithyroid_meds       0\n",
       "sick                      0\n",
       "pregnant                  0\n",
       "thyroid_surgery           0\n",
       "I131_treatment            0\n",
       "query_hypothyroid         0\n",
       "query_hyperthyroid        0\n",
       "lithium                   0\n",
       "goitre                    0\n",
       "tumor                     0\n",
       "hypopituitary             0\n",
       "psych                     0\n",
       "TSH_measured              0\n",
       "TSH                     842\n",
       "T3_measured               0\n",
       "T3                     2604\n",
       "TT4_measured              0\n",
       "TT4                     442\n",
       "T4U_measured              0\n",
       "T4U                     809\n",
       "FTI_measured              0\n",
       "FTI                     802\n",
       "TBG_measured              0\n",
       "TBG                    8823\n",
       "referral_source           0\n",
       "target                    0\n",
       "dtype: int64"
      ]
     },
     "execution_count": 7,
     "metadata": {},
     "output_type": "execute_result"
    }
   ],
   "source": [
    "df.isnull().sum()"
   ]
  },
  {
   "cell_type": "code",
   "execution_count": 8,
   "id": "bdedd1d7",
   "metadata": {},
   "outputs": [],
   "source": [
    "def fill_column(column_A, column_B):\n",
    "    if column_A == 'f':\n",
    "        return 0.0\n",
    "    else:\n",
    "        return column_B"
   ]
  },
  {
   "cell_type": "code",
   "execution_count": 9,
   "id": "fe2dc210",
   "metadata": {},
   "outputs": [],
   "source": [
    "df['TSH'] = df.apply(lambda row: fill_column(row['TSH_measured'], row['TSH']), axis=1)\n",
    "df['T3'] = df.apply(lambda row: fill_column(row['T3_measured'], row['T3']), axis=1)\n",
    "df['TT4'] = df.apply(lambda row: fill_column(row['TT4_measured'], row['TT4']), axis=1)\n",
    "df['T4U'] = df.apply(lambda row: fill_column(row['T4U_measured'], row['T4U']), axis=1)\n",
    "df['FTI'] = df.apply(lambda row: fill_column(row['FTI_measured'], row['FTI']), axis=1)\n",
    "df['TBG'] = df.apply(lambda row: fill_column(row['TBG_measured'], row['TBG']), axis=1)"
   ]
  },
  {
   "cell_type": "code",
   "execution_count": 10,
   "id": "16e97dcb",
   "metadata": {},
   "outputs": [],
   "source": [
    "df = df.fillna(\"N\")"
   ]
  },
  {
   "cell_type": "markdown",
   "id": "a849c834",
   "metadata": {},
   "source": [
    "## dupliacted data analysis and handling\n",
    "calculates and returns the count of missing (null) values for each column in a DataFrame , helping to assess the impact of data removal on missing data patterns."
   ]
  },
  {
   "cell_type": "code",
   "execution_count": 11,
   "id": "50edd982",
   "metadata": {},
   "outputs": [
    {
     "data": {
      "text/plain": [
       "10"
      ]
     },
     "execution_count": 11,
     "metadata": {},
     "output_type": "execute_result"
    }
   ],
   "source": [
    "df.duplicated().sum()"
   ]
  },
  {
   "cell_type": "code",
   "execution_count": 12,
   "id": "b3a8a303",
   "metadata": {},
   "outputs": [],
   "source": [
    "df= df.drop_duplicates()"
   ]
  },
  {
   "cell_type": "code",
   "execution_count": 13,
   "id": "1dd60dd9",
   "metadata": {},
   "outputs": [],
   "source": [
    "df_visualization = df.copy()"
   ]
  },
  {
   "cell_type": "markdown",
   "id": "5662efed",
   "metadata": {},
   "source": [
    "## Visualizations\n",
    "### Visualizing Gender Distribution"
   ]
  },
  {
   "cell_type": "code",
   "execution_count": 14,
   "id": "0808d432",
   "metadata": {},
   "outputs": [
    {
     "data": {
      "image/png": "[encoded data removed]",
      "text/plain": [
       "<Figure size 432x432 with 1 Axes>"
      ]
     },
     "metadata": {},
     "output_type": "display_data"
    }
   ],
   "source": [
    "type_counts = df_visualization['sex'].value_counts()\n",
    "plt.figure(figsize=(6, 6))\n",
    "plt.pie(type_counts, labels=type_counts.index, autopct='%1.1f%%', startangle=90, wedgeprops={'linewidth':4.0,'edgecolor':'white'})\n",
    "plt.title('Percentage Distribution of Sex')\n",
    "plt.axis('equal') \n",
    "plt.show()"
   ]
  },
  {
   "cell_type": "markdown",
   "id": "d7c8411d",
   "metadata": {},
   "source": [
    "### Exploring Age and Gender Distribution"
   ]
  },
  {
   "cell_type": "code",
   "execution_count": 15,
   "id": "91385e3a",
   "metadata": {},
   "outputs": [
    {
     "data": {
      "image/png": "[encoded data removed]",
      "text/plain": [
       "<Figure size 720x432 with 1 Axes>"
      ]
     },
     "metadata": {
      "needs_background": "light"
     },
     "output_type": "display_data"
    }
   ],
   "source": [
    "bins = [0, 20, 40, 60]\n",
    "labels = ['0-20', '21-40', '41-60']\n",
    "df_visualization['age_group'] = pd.cut(df_visualization['age'], bins=bins, labels=labels, right=False)\n",
    "grouped_data = df_visualization.groupby(['age_group', 'sex']).size().unstack(fill_value=0)\n",
    "grouped_data.plot(kind='bar', stacked=True, colormap='viridis', figsize=(10, 6))\n",
    "plt.xlabel('Age Group')\n",
    "plt.ylabel('Count')\n",
    "plt.title('Bar Plot of Age and Sex')\n",
    "plt.show()\n",
    "df_visualization.drop(['age_group'], axis = 1, inplace = True)"
   ]
  },
  {
   "cell_type": "markdown",
   "id": "d122cd49",
   "metadata": {},
   "source": [
    "### Analyzing Boolean Column Distribution"
   ]
  },
  {
   "cell_type": "code",
   "execution_count": 16,
   "id": "6e7493c4",
   "metadata": {},
   "outputs": [
    {
     "data": {
      "image/png": "[encoded data removed]",
      "text/plain": [
       "<Figure size 720x360 with 1 Axes>"
      ]
     },
     "metadata": {
      "needs_background": "light"
     },
     "output_type": "display_data"
    }
   ],
   "source": [
    "selected_columns = ['on_thyroxine', 'query_on_thyroxine', 'on_antithyroid_meds', 'sick', 'pregnant',\n",
    "                   'thyroid_surgery','I131_treatment','query_hypothyroid','query_hyperthyroid','lithium','goitre','tumor',\n",
    "                    'hypopituitary','psych']\n",
    "counts = df_visualization[selected_columns].apply(pd.Series.value_counts).T\n",
    "N = 14\n",
    "blue_bar = (counts['f'])\n",
    "orange_bar = (counts['t'])\n",
    "ind = np.arange(N)\n",
    "plt.figure(figsize=(10,5))\n",
    "width = 0.3       \n",
    "plt.bar(ind, blue_bar , width, label='false')\n",
    "plt.bar(ind + width, orange_bar, width, label='true')\n",
    "plt.xlabel('Column')\n",
    "plt.ylabel('Counts')\n",
    "plt.title('Boolean Columns Bar Graph')\n",
    "plt.xticks(ind + width / 2, ('A', 'B', 'C', 'D', 'E',\n",
    "                   'F','G','H','I','J','K','L',\n",
    "                    'M','N'))\n",
    "plt.legend(loc='best')\n",
    "plt.show()"
   ]
  },
  {
   "cell_type": "markdown",
   "id": "4b78405f",
   "metadata": {},
   "source": [
    "### Exploring Measured Thyroid Parameters"
   ]
  },
  {
   "cell_type": "code",
   "execution_count": 17,
   "id": "39651c3b",
   "metadata": {},
   "outputs": [
    {
     "data": {
      "image/png": "[encoded data removed]",
      "text/plain": [
       "<Figure size 720x432 with 1 Axes>"
      ]
     },
     "metadata": {
      "needs_background": "light"
     },
     "output_type": "display_data"
    }
   ],
   "source": [
    "selected_columns = ['TSH_measured', 'T3_measured', 'TT4_measured', 'T4U_measured', 'FTI_measured','TBG_measured']\n",
    "counts = df_visualization[selected_columns].apply(pd.Series.value_counts).T\n",
    "counts.plot(kind='bar', stacked=True, colormap='coolwarm', figsize=(10, 6))\n",
    "plt.title('Boolean Columns Bar Graph')\n",
    "plt.xlabel('Columns')\n",
    "plt.ylabel('Count')\n",
    "plt.xticks(rotation=45)\n",
    "plt.legend(title='Values', labels=['False', 'True'], loc='upper right')\n",
    "plt.show()"
   ]
  },
  {
   "cell_type": "markdown",
   "id": "9e83baa0",
   "metadata": {},
   "source": [
    "### Comparing TSH Levels by Gender"
   ]
  },
  {
   "cell_type": "code",
   "execution_count": 18,
   "id": "cdd62d59",
   "metadata": {},
   "outputs": [
    {
     "data": {
      "image/png": "[encoded data removed]",
      "text/plain": [
       "<Figure size 576x432 with 1 Axes>"
      ]
     },
     "metadata": {
      "needs_background": "light"
     },
     "output_type": "display_data"
    }
   ],
   "source": [
    "plt.figure(figsize=(8, 6))\n",
    "sns.boxplot(x='sex', y='TSH', data=df_visualization, palette='Set3')\n",
    "plt.xlabel('Sex')\n",
    "plt.ylabel('TSH Levels')\n",
    "plt.title('TSH Levels by Sex')\n",
    "plt.show()"
   ]
  },
  {
   "cell_type": "code",
   "execution_count": 19,
   "id": "b1a40cc7",
   "metadata": {},
   "outputs": [],
   "source": [
    "def process_target(target):\n",
    "    classes = target.split('|')\n",
    "    return classes"
   ]
  },
  {
   "cell_type": "markdown",
   "id": "cbc777c9",
   "metadata": {},
   "source": [
    "### Exploring Top Target Variables Distribution"
   ]
  },
  {
   "cell_type": "code",
   "execution_count": 20,
   "id": "ae628b1b",
   "metadata": {},
   "outputs": [
    {
     "data": {
      "image/png": "[encoded data removed]",
      "text/plain": [
       "<Figure size 720x432 with 1 Axes>"
      ]
     },
     "metadata": {},
     "output_type": "display_data"
    }
   ],
   "source": [
    "df_visualization['Processed_Target'] = df_visualization['target'].apply(process_target)\n",
    "all_classes = [cls for classes in df_visualization['Processed_Target'] for cls in classes]\n",
    "class_counts = pd.Series(all_classes).value_counts()\n",
    "top_5_classes = class_counts.head(5)\n",
    "other_count = class_counts[5:].sum()\n",
    "top_5_classes['Others'] = other_count\n",
    "plt.figure(figsize=(10, 6))\n",
    "plt.pie(top_5_classes, labels=top_5_classes.index,  autopct='%1.1f%%', startangle=90, wedgeprops={'linewidth':4.0,'edgecolor':'white'})\n",
    "plt.title('Percentage of Top 5 Target Variables (with Others)')\n",
    "plt.axis('equal') \n",
    "plt.show()\n",
    "df_visualization.drop(['Processed_Target'], axis = 1, inplace = True)\n",
    "df_visualization.drop(['referral_source'], axis = 1, inplace = True)"
   ]
  },
  {
   "cell_type": "markdown",
   "id": "4edbfdee",
   "metadata": {},
   "source": [
    "### Correlation Heatmap of Attributes"
   ]
  },
  {
   "cell_type": "code",
   "execution_count": 21,
   "id": "74ccf215",
   "metadata": {},
   "outputs": [
    {
     "data": {
      "text/plain": [
       "<Axes: >"
      ]
     },
     "execution_count": 21,
     "metadata": {},
     "output_type": "execute_result"
    },
    {
     "data": {
      "image/png": "[encoded data removed]",
      "text/plain": [
       "<Figure size 720x720 with 2 Axes>"
      ]
     },
     "metadata": {},
     "output_type": "display_data"
    }
   ],
   "source": [
    "sns.set(rc={'figure.figsize':(10, 10)})\n",
    "sns.set(font_scale=1.2)\n",
    "sns.heatmap(data=df_visualization.corr(), cmap='Blues', annot=True)"
   ]
  },
  {
   "cell_type": "markdown",
   "id": "188efa43",
   "metadata": {},
   "source": [
    "## Data Preprocessing\n",
    "### Label Encoding for Categorical Data"
   ]
  },
  {
   "cell_type": "code",
   "execution_count": 22,
   "id": "18e85903",
   "metadata": {},
   "outputs": [],
   "source": [
    "label_encoder = LabelEncoder()\n",
    "df_visualization['sex'] = label_encoder.fit_transform(df_visualization['sex'])\n",
    "df_visualization['on_thyroxine'] = label_encoder.fit_transform(df_visualization['on_thyroxine'])\n",
    "df_visualization['query_on_thyroxine'] = label_encoder.fit_transform(df_visualization['query_on_thyroxine'])\n",
    "df_visualization['on_antithyroid_meds'] = label_encoder.fit_transform(df_visualization['on_antithyroid_meds'])\n",
    "df_visualization['sick'] = label_encoder.fit_transform(df_visualization['sick'])\n",
    "df_visualization['pregnant'] = label_encoder.fit_transform(df_visualization['pregnant'])\n",
    "df_visualization['thyroid_surgery'] = label_encoder.fit_transform(df_visualization['thyroid_surgery'])\n",
    "df_visualization['I131_treatment'] = label_encoder.fit_transform(df_visualization['I131_treatment'])\n",
    "df_visualization['query_hypothyroid'] = label_encoder.fit_transform(df_visualization['query_hypothyroid'])\n",
    "df_visualization['query_hyperthyroid'] = label_encoder.fit_transform(df_visualization['query_hyperthyroid'])\n",
    "df_visualization['lithium'] = label_encoder.fit_transform(df_visualization['lithium'])\n",
    "df_visualization['goitre'] = label_encoder.fit_transform(df_visualization['goitre'])\n",
    "df_visualization['tumor'] = label_encoder.fit_transform(df_visualization['tumor'])\n",
    "df_visualization['hypopituitary'] = label_encoder.fit_transform(df_visualization['hypopituitary'])\n",
    "df_visualization['psych'] = label_encoder.fit_transform(df_visualization['psych'])\n",
    "df_visualization['TSH_measured'] = label_encoder.fit_transform(df_visualization['TSH_measured'])\n",
    "df_visualization['T3_measured'] = label_encoder.fit_transform(df_visualization['T3_measured'])\n",
    "df_visualization['TT4_measured'] = label_encoder.fit_transform(df_visualization['TT4_measured'])\n",
    "df_visualization['T4U_measured'] = label_encoder.fit_transform(df_visualization['T4U_measured'])\n",
    "df_visualization['FTI_measured'] = label_encoder.fit_transform(df_visualization['FTI_measured'])\n",
    "df_visualization['TBG_measured'] = label_encoder.fit_transform(df_visualization['TBG_measured'])"
   ]
  },
  {
   "cell_type": "markdown",
   "id": "1651310f",
   "metadata": {},
   "source": [
    "### Feature Scaling for Model Enhancement\n",
    "Min-Max scaling to normalize selected columns within the DataFrame."
   ]
  },
  {
   "cell_type": "code",
   "execution_count": 23,
   "id": "148e213f",
   "metadata": {},
   "outputs": [],
   "source": [
    "def column_to_normalize(df,column):\n",
    "    min_value = df[column].min()\n",
    "    max_value = df[column].max()\n",
    "    df[column] = (df[column] - min_value) / (max_value - min_value)"
   ]
  },
  {
   "cell_type": "code",
   "execution_count": 24,
   "id": "b4aceea4",
   "metadata": {},
   "outputs": [],
   "source": [
    "column_to_normalize(df_visualization,'age')\n",
    "column_to_normalize(df_visualization,'TSH')\n",
    "column_to_normalize(df_visualization,'T3')\n",
    "column_to_normalize(df_visualization,'TT4')\n",
    "column_to_normalize(df_visualization,'T4U')\n",
    "column_to_normalize(df_visualization,'FTI')\n",
    "column_to_normalize(df_visualization,'TBG')"
   ]
  },
  {
   "cell_type": "markdown",
   "id": "7fc65067",
   "metadata": {},
   "source": [
    "###  Multi-Label Hyperthyroidism Classification\n",
    "the 'target' column in the DataFrame 'df_visualization' for multi-label classification by replacing hyphens with 'X' and splitting the labels separated by '|' using MultiLabelBinarizer."
   ]
  },
  {
   "cell_type": "code",
   "execution_count": 25,
   "id": "9b5d7e9e",
   "metadata": {},
   "outputs": [],
   "source": [
    "df_visualization['target'] = df_visualization['target'].replace('-', 'X')\n",
    "df_visualization['target'] = df_visualization['target'].apply(lambda x: x.split('|'))\n",
    "mlb = MultiLabelBinarizer()"
   ]
  },
  {
   "cell_type": "markdown",
   "id": "63d7cddc",
   "metadata": {},
   "source": [
    "## Model Preparing\n",
    "### Feature-Target Split "
   ]
  },
  {
   "cell_type": "code",
   "execution_count": 26,
   "id": "e137d28f",
   "metadata": {},
   "outputs": [],
   "source": [
    "y = mlb.fit_transform(df_visualization['target'])\n",
    "X = df_visualization.drop(['target'], axis=1)\n",
    "X.columns = X.columns.astype(str)"
   ]
  },
  {
   "cell_type": "markdown",
   "id": "c2c2bb11",
   "metadata": {},
   "source": [
    "###  Train-Test Split"
   ]
  },
  {
   "cell_type": "code",
   "execution_count": 27,
   "id": "2d1e6237",
   "metadata": {},
   "outputs": [],
   "source": [
    "X_train, X_test, y_train, y_test = train_test_split(X, y, test_size=0.2, random_state=42)"
   ]
  },
  {
   "cell_type": "markdown",
   "id": "6c3ef46b",
   "metadata": {},
   "source": [
    "## Model Training and Testing\n",
    "### Support Vector Machine (SVM) Classifier and Accuracy Visualization\n",
    "A Support Vector Machine (SVM) classifier is trained and evaluated on the provided training and testing datasets (X_train, y_train, X_test, y_test). The classifier's accuracy on both the testing and training sets is calculated and displayed."
   ]
  },
  {
   "cell_type": "code",
   "execution_count": 44,
   "id": "7c6d12d8",
   "metadata": {},
   "outputs": [
    {
     "name": "stdout",
     "output_type": "stream",
     "text": [
      "SVM  Testing Accuracy: 0.7463175122749591\n",
      "SVM Training Accuracy: 0.7553554373038613\n"
     ]
    },
    {
     "data": {
      "image/png": "[encoded data removed]",
      "text/plain": [
       "<Figure size 576x432 with 1 Axes>"
      ]
     },
     "metadata": {},
     "output_type": "display_data"
    }
   ],
   "source": [
    "svm_classifier = OneVsRestClassifier(SVC(kernel='linear'))\n",
    "svm_classifier.fit(X_train, y_train)\n",
    "svm_preds = svm_classifier.predict(X_test)\n",
    "svm_accuracy = accuracy_score(y_test, svm_preds)\n",
    "svm_train_preds = svm_classifier.predict(X_train)\n",
    "svm_train_accuracy = accuracy_score(y_train, svm_train_preds)\n",
    "print(f\"SVM  Testing Accuracy: {svm_accuracy}\")\n",
    "print(f\"SVM Training Accuracy: {svm_train_accuracy}\")\n",
    "categories = ['Testing Accuracy', 'Training Accuracy']\n",
    "values = [svm_accuracy, svm_train_accuracy]\n",
    "plt.figure(figsize=(8, 6))\n",
    "sns.barplot(x=categories, y=values, palette='pastel')\n",
    "plt.ylabel('Accuracy')\n",
    "plt.title('SVM Classifier Accuracy')\n",
    "plt.ylim([0, 1])  # Set y-axis limits to match accuracy range (0 to 1)\n",
    "plt.show()"
   ]
  },
  {
   "cell_type": "markdown",
   "id": "bb940aa9",
   "metadata": {},
   "source": [
    "### Random Forest Classification and Accuracy Visualization\n",
    "A Random Forest classifier to the training data, calculates both testing and training accuracies, and then displays the results. It also visualizes the accuracies using a bar chart, illustrating the performance of the Random Forest model on the dataset."
   ]
  },
  {
   "cell_type": "code",
   "execution_count": 45,
   "id": "d95646a1",
   "metadata": {},
   "outputs": [
    {
     "name": "stdout",
     "output_type": "stream",
     "text": [
      "RF Testing Accuracy: 0.756683033278778\n",
      "RF Training Accuracy: 0.7820985127575385\n"
     ]
    },
    {
     "data": {
      "image/png": "[encoded data removed]",
      "text/plain": [
       "<Figure size 576x432 with 1 Axes>"
      ]
     },
     "metadata": {},
     "output_type": "display_data"
    }
   ],
   "source": [
    "rf_classifier = OneVsRestClassifier(RandomForestClassifier(max_depth=5))\n",
    "rf_classifier.fit(X_train, y_train)\n",
    "rf_preds = rf_classifier.predict(X_test)\n",
    "rf_accuracy = accuracy_score(y_test, rf_preds)\n",
    "rf_train_preds = rf_classifier.predict(X_train)\n",
    "rf_train_accuracy = accuracy_score(y_train, rf_train_preds)\n",
    "print(f\"RF Testing Accuracy: {rf_accuracy}\")\n",
    "print(f\"RF Training Accuracy: {rf_train_accuracy}\")\n",
    "categories = ['Testing Accuracy', 'Training Accuracy']\n",
    "values = [rf_accuracy, rf_train_accuracy]\n",
    "plt.figure(figsize=(8, 6))\n",
    "sns.barplot(x=categories, y=values, palette='pastel')\n",
    "plt.ylabel('Accuracy')\n",
    "plt.title('SVM Classifier Accuracy')\n",
    "plt.ylim([0, 1])  # Set y-axis limits to match accuracy range (0 to 1)\n",
    "plt.show()"
   ]
  },
  {
   "cell_type": "markdown",
   "id": "f914cc88",
   "metadata": {},
   "source": [
    "### Naive Bayes Classification and Accuracy Visualization\n",
    "A Multinomial Naive Bayes (NB) classifier with a specified alpha value is applied to the training data. It calculates and displays both testing and training accuracies for the NB model. The code also visualizes the accuracies using a bar chart, illustrating the performance of the NB model on the dataset."
   ]
  },
  {
   "cell_type": "code",
   "execution_count": 46,
   "id": "270b63d4",
   "metadata": {},
   "outputs": [
    {
     "name": "stdout",
     "output_type": "stream",
     "text": [
      "NB  Testing Accuracy: 0.7135842880523732\n",
      "NB Training Accuracy: 0.7228817028243962\n"
     ]
    },
    {
     "data": {
      "image/png": "[encoded data removed]",
      "text/plain": [
       "<Figure size 576x432 with 1 Axes>"
      ]
     },
     "metadata": {},
     "output_type": "display_data"
    }
   ],
   "source": [
    "nb_classifier = OneVsRestClassifier(MultinomialNB())\n",
    "nb_classifier.fit(X_train, y_train)\n",
    "nb_preds = nb_classifier.predict(X_test)\n",
    "nb_accuracy = accuracy_score(y_test, nb_preds)\n",
    "nb_train_preds = nb_classifier.predict(X_train)\n",
    "nb_train_accuracy = accuracy_score(y_train, nb_train_preds)\n",
    "print(f\"NB  Testing Accuracy: {nb_accuracy}\")\n",
    "print(f\"NB Training Accuracy: {nb_train_accuracy}\")\n",
    "categories = ['Testing Accuracy', 'Training Accuracy']\n",
    "values = [nb_accuracy, nb_train_accuracy]\n",
    "plt.figure(figsize=(8, 6))\n",
    "sns.barplot(x=categories, y=values, palette='pastel')\n",
    "plt.ylabel('Accuracy')\n",
    "plt.title('SVM Classifier Accuracy')\n",
    "plt.ylim([0, 1])  # Set y-axis limits to match accuracy range (0 to 1)\n",
    "plt.show()"
   ]
  },
  {
   "cell_type": "markdown",
   "id": "7a3dcee3",
   "metadata": {},
   "source": [
    "### Neural Network Classification and Accuracy Visualization\n",
    "A Multi-Layer Perceptron (MLP) classifier with specific hidden layer sizes and alpha value is applied to the training data. It calculates and displays both testing and training accuracies for the MLP model. Additionally, the code visualizes the accuracies using a bar chart, illustrating the performance of the Neural Network model on the dataset."
   ]
  },
  {
   "cell_type": "code",
   "execution_count": 47,
   "id": "f9714143",
   "metadata": {},
   "outputs": [
    {
     "name": "stdout",
     "output_type": "stream",
     "text": [
      "NN  Testing Accuracy: 0.8041462084015275\n",
      "NN Training Accuracy: 0.8706508391322145\n"
     ]
    },
    {
     "data": {
      "image/png": "[encoded data removed]",
      "text/plain": [
       "<Figure size 576x432 with 1 Axes>"
      ]
     },
     "metadata": {},
     "output_type": "display_data"
    }
   ],
   "source": [
    "nn_classifier = OneVsRestClassifier(MLPClassifier(hidden_layer_sizes=(64,32,16,), max_iter=1000))\n",
    "nn_classifier.fit(X_train, y_train)\n",
    "nn_preds = nn_classifier.predict(X_test)\n",
    "nn_accuracy = accuracy_score(y_test, nn_preds)\n",
    "nn_train_preds = nn_classifier.predict(X_train)\n",
    "nn_train_accuracy = accuracy_score(y_train, nn_train_preds)\n",
    "print(f\"NN  Testing Accuracy: {nn_accuracy}\")\n",
    "print(f\"NN Training Accuracy: {nn_train_accuracy}\")\n",
    "categories = ['Testing Accuracy', 'Training Accuracy']\n",
    "values = [nn_accuracy, nn_train_accuracy]\n",
    "plt.figure(figsize=(8, 6))\n",
    "sns.barplot(x=categories, y=values, palette='pastel')\n",
    "plt.ylabel('Accuracy')\n",
    "plt.title('SVM Classifier Accuracy')\n",
    "plt.ylim([0, 1])  # Set y-axis limits to match accuracy range (0 to 1)\n",
    "plt.show()"
   ]
  },
  {
   "cell_type": "code",
   "execution_count": null,
   "id": "a9a7bc04",
   "metadata": {},
   "outputs": [],
   "source": []
  }
 ],
 "metadata": {
  "kernelspec": {
   "display_name": "Python 3 (ipykernel)",
   "language": "python",
   "name": "python3"
  },
  "language_info": {
   "codemirror_mode": {
    "name": "ipython",
    "version": 3
   },
   "file_extension": ".py",
   "mimetype": "text/x-python",
   "name": "python",
   "nbconvert_exporter": "python",
   "pygments_lexer": "ipython3",
   "version": "3.9.12"
  }
 },
 "nbformat": 4,
 "nbformat_minor": 5
}
